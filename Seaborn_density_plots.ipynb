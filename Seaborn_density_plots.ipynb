
import seaborn
import pandas as pd
import matplotlib.pyplot as plt

jan_2021_data= pd.read_csv ("C:/Users/titil/Documents/UNI -GEO/CEGE0042 Spatial-Temporal Data Analysis and Data Mining (STDM)/Spatial Temporal data/Police data/QGIS_CSV_JAN_2021.csv")
df_march_2020 = pd.read_csv ('C:/Users/titil/Documents/UNI -GEO/CEGE0042 Spatial-Temporal Data Analysis and Data Mining (STDM)/Spatial Temporal data/Police data/qgis_march_2020.csv')
seaborn.set_theme(style="dark")

seaborn.jointplot('Longitude','Latitude',jan_2021_data,kind='kde')
seaborn.jointplot('Longitude','Latitude',df_march_2020,kind='kde',color='red')

# seaborn.jointplot(x='Longitude',y='Latitude',data=df_march_2020,kind='kde')

# seaborn.kdeplot( x='Longitude',y='Latitude',data=df_march_2020, fill=True,color='red')

# seaborn.kdeplot( x='Longitude',y='Latitude',data=jan_2021_data, fill=True,color='blue')


fig, axes = plt.subplots(1, 2, figsize=(15, 5), sharey=True)
fig.suptitle('Crime Violence')

#march
seaborn.kdeplot( ax=axes[0],x='Longitude',y='Latitude',data=df_march_2020, fill=True,color='red', cbar=True)
axes[0].set_title('march 2020')

#jan 2020
seaborn.kdeplot(ax=axes[1],x='Longitude',y='Latitude',data=jan_2021_data, fill=True,color='blue', cbar=True)
axes[1].set_title('jan 2020')


fig, (ax1, ax2) = plt.subplots(1, 2, figsize=(12, 5))
fig.suptitle('Distribution March 2020', fontsize=16)
ax1.hist(df_march_2020.Latitude)
ax1.set_xlabel('Latitude', fontsize=13)
ax1.set_ylabel('Frequency', fontsize=13)
ax2.hist(df_march_2020.Longitude)
ax2.set_xlabel('Longitude', fontsize=13)
ax2.set_ylabel('Frequency', fontsize=13);


fig, (ax1, ax2) = plt.subplots(1, 2, figsize=(12, 5))
fig.suptitle('Distribution Jan 2021', fontsize=16)
ax1.hist(jan_2021_data.Latitude)
ax1.set_xlabel('Latitude', fontsize=13)
ax1.set_ylabel('Frequency', fontsize=13)
ax2.hist(jan_2021_data.Longitude)
ax2.set_xlabel('Longitude', fontsize=13)
ax2.set_ylabel('Frequency', fontsize=13);