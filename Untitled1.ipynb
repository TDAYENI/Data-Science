{
 "cells": [
  {
   "cell_type": "markdown",
   "id": "c25ffebe",
   "metadata": {},
   "source": [
    "# Spatial Clustering and Profiling\n",
    "## Partitioning clustering:  k-means"
   ]
  },
  {
   "cell_type": "markdown",
   "id": "dd0ca72e",
   "metadata": {},
   "source": [
    "Code taken from CEGE0042: Spatial-Temporal Data Analysis and Data Mining (STDM)tutorial material created By Dr James Haworth\n",
    "Lecturer, Dept of Civil, Environ &Geomatic Eng Faculty of Engineering Science"
   ]
  },
  {
   "cell_type": "code",
   "execution_count": 14,
   "id": "1ece40c0",
   "metadata": {},
   "outputs": [
    {
     "name": "stderr",
     "output_type": "stream",
     "text": [
      "Warning message:\n",
      "\"package 'fields' is in use and will not be installed\"Warning message:\n",
      "\"package 'dotCall64' is in use and will not be installed\""
     ]
    }
   ],
   "source": [
    "# install.packages('fields')\n",
    "# install.packages('dotCall64')\n",
    "library(dbscan)\n",
    "library(dotCall64)\n",
    "library(fields)"
   ]
  },
  {
   "cell_type": "code",
   "execution_count": 15,
   "id": "c5f6294f",
   "metadata": {},
   "outputs": [],
   "source": [
    "mykmeans <- function(data, k, max.iter=10)\n",
    "{\n",
    "  # A function for carrying out k-means clustering\n",
    "  # Inputs:\n",
    "  #  data: data matrix/data frame with n rows and p columns, where n\n",
    "  #  is the number of observations and p the number of variables \n",
    "  #  k: the number of clusters that are sought\n",
    "  #  max.iter: the number of iterations before stopping the algorithm\n",
    "  # Outputs:\n",
    "  #  centres: the coordinates of the cluster centres\n",
    "  #  clusters: the cluster that each data point is assigned to.\n",
    "  \n",
    "  require(fields)\n",
    "  # randomly select centres\n",
    "  centres <- data[sample(1:nrow(data), k),] \n",
    "  # create empty matrix to store distance calculations\n",
    "  dists <- matrix(0, nrow(data), k+1) \n",
    "  for (i in 1:max.iter)\n",
    "  {\n",
    "    for(j in 1:k)\n",
    "    {\n",
    "      # Calculate Euclidean distance from points to cluster centres\n",
    "      dists[,j] <- rdist(data, centres[j,,drop=F]) \n",
    "    }\n",
    "    # Find nearest centre for each data point (minimum distance)\n",
    "    dists[,k+1] <- apply(dists[,c(1:k)], 1, which.min) \n",
    "    # recalculate centres as mean of points contained in each cluster\n",
    "    centres <- aggregate(data, list(dists[,k+1]), mean)[,-1]\n",
    "  }\n",
    "  return(list(centres=centres, clusters=dists[,k+1]))\n",
    "}"
   ]
  },
  {
   "cell_type": "code",
   "execution_count": 12,
   "id": "796e0ea9",
   "metadata": {},
   "outputs": [],
   "source": [
    "set.seed(100)\n"
   ]
  },
  {
   "cell_type": "code",
   "execution_count": 13,
   "id": "3ab83f66",
   "metadata": {},
   "outputs": [
    {
     "data": {
      "image/png": "[encoded data removed]",
      "text/plain": [
       "plot without title"
      ]
     },
     "metadata": {},
     "output_type": "display_data"
    }
   ],
   "source": [
    "# Generate simulated data\n",
    "points1 <- rbind(cbind(rnorm(100, 1), rnorm(100, 1)), cbind(rnorm(100, 8), rnorm(100, 8)))\n",
    "# Run k-means\n",
    "points1_kmeans <- mykmeans(points1, k=2, max.iter=100)\n",
    "# Plot the resulting clusters (colour represents cluster membership)\n",
    " plot(points1, col=points1_kmeans$clusters, asp=1, xlab=\"x\", ylab=\"y\")"
   ]
  },
  {
   "cell_type": "code",
   "execution_count": null,
   "id": "4d318e71",
   "metadata": {},
   "outputs": [],
   "source": [
    "# Generate simulated data\n",
    "points2 <- rbind(cbind(rnorm(100, 1,1), rnorm(100, 1,10)), cbind(rnorm(100, 8,1), rnorm(100, 8,10)))\n",
    "# Run k-means\n",
    "points2_kmeans <- mykmeans(points2, 2, 100)\n",
    "# Plot the resulting clusters\n",
    "plot(points2, col=points2_kmeans$clusters, asp=1, xlab=\"x\", ylab=\"y\")\n",
    "points(points2_kmeans$centres, col=\"blue\")"
   ]
  },
  {
   "cell_type": "code",
   "execution_count": null,
   "id": "5df11935",
   "metadata": {},
   "outputs": [],
   "source": []
  },
  {
   "cell_type": "code",
   "execution_count": null,
   "id": "c3a29b79",
   "metadata": {},
   "outputs": [],
   "source": [
    "# points4 <- rbind(cbind(rnorm(100, 1), rnorm(100, 1)), \n",
    "\n",
    "points4 <- rbind(cbind(rnorm(100, 1), rnorm(100, 1)), \n",
    "                 cbind(rnorm(100, 8), rnorm(100, 8)),\n",
    "                 cbind(rnorm(100, 16), rnorm(100, 8)),\n",
    "                 cbind(rnorm(100, 8), rnorm(100, 16))\n",
    ")\n",
    "plot(points4, asp=1, xlab=\"x\", ylab=\"y\")\n"
   ]
  }
 ],
 "metadata": {
  "kernelspec": {
   "display_name": "R",
   "language": "R",
   "name": "ir"
  },
  "language_info": {
   "codemirror_mode": "r",
   "file_extension": ".r",
   "mimetype": "text/x-r-source",
   "name": "R",
   "pygments_lexer": "r",
   "version": "3.6.1"
  }
 },
 "nbformat": 4,
 "nbformat_minor": 5
}
